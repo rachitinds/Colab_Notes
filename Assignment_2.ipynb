{
  "nbformat": 4,
  "nbformat_minor": 0,
  "metadata": {
    "colab": {
      "name": "Assignment#2.ipynb",
      "provenance": [],
      "authorship_tag": "ABX9TyPyF/UAzN6hpia0eQiad/hq",
      "include_colab_link": true
    },
    "kernelspec": {
      "name": "python3",
      "display_name": "Python 3"
    }
  },
  "cells": [
    {
      "cell_type": "markdown",
      "metadata": {
        "id": "view-in-github",
        "colab_type": "text"
      },
      "source": [
        "<a href=\"https://colab.research.google.com/github/rachitinds/Colab_Notes/blob/master/Assignment_2.ipynb\" target=\"_parent\"><img src=\"https://colab.research.google.com/assets/colab-badge.svg\" alt=\"Open In Colab\"/></a>"
      ]
    },
    {
      "cell_type": "markdown",
      "metadata": {
        "id": "KFDjYPcFzd3q",
        "colab_type": "text"
      },
      "source": [
        "Assignment#2 - Rachit Shah - rachitinds@gmail.com"
      ]
    },
    {
      "cell_type": "markdown",
      "metadata": {
        "id": "-OyGFpfKzq2A",
        "colab_type": "text"
      },
      "source": [
        "Question#1"
      ]
    },
    {
      "cell_type": "code",
      "metadata": {
        "id": "b4Fl-gIgzR-m",
        "colab_type": "code",
        "colab": {
          "base_uri": "https://localhost:8080/",
          "height": 191
        },
        "outputId": "1c57e217-5653-441d-c124-948ad3b3eb5d"
      },
      "source": [
        "for i in range(10):\n",
        "  if i<5:\n",
        "    k = i+1\n",
        "  else:\n",
        "    k = 10-i-1\n",
        "  for j in range(k):\n",
        "    print(\"*\",end=\" \")\n",
        "  print()\n",
        "  "
      ],
      "execution_count": 8,
      "outputs": [
        {
          "output_type": "stream",
          "text": [
            "* \n",
            "* * \n",
            "* * * \n",
            "* * * * \n",
            "* * * * * \n",
            "* * * * \n",
            "* * * \n",
            "* * \n",
            "* \n",
            "\n"
          ],
          "name": "stdout"
        }
      ]
    },
    {
      "cell_type": "markdown",
      "metadata": {
        "id": "2kpJEEPx3J6l",
        "colab_type": "text"
      },
      "source": [
        "Question#2"
      ]
    },
    {
      "cell_type": "code",
      "metadata": {
        "id": "0bM-uU_W3Por",
        "colab_type": "code",
        "colab": {
          "base_uri": "https://localhost:8080/",
          "height": 35
        },
        "outputId": "8af26b98-b08a-4304-a114-9ced342b99b6"
      },
      "source": [
        "def reverse_the_word(word):\n",
        "  return word[::-1]\n",
        "\n",
        "print(reverse_the_word(\"ineuron\"))"
      ],
      "execution_count": 9,
      "outputs": [
        {
          "output_type": "stream",
          "text": [
            "norueni\n"
          ],
          "name": "stdout"
        }
      ]
    }
  ]
}