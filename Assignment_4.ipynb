{
  "nbformat": 4,
  "nbformat_minor": 0,
  "metadata": {
    "colab": {
      "name": "Assignment#4.ipynb",
      "provenance": [],
      "authorship_tag": "ABX9TyOAehr+N1OOg5AVdjXHqATi",
      "include_colab_link": true
    },
    "kernelspec": {
      "name": "python3",
      "display_name": "Python 3"
    }
  },
  "cells": [
    {
      "cell_type": "markdown",
      "metadata": {
        "id": "view-in-github",
        "colab_type": "text"
      },
      "source": [
        "<a href=\"https://colab.research.google.com/github/rachitinds/Colab_Notes/blob/master/Assignment_4.ipynb\" target=\"_parent\"><img src=\"https://colab.research.google.com/assets/colab-badge.svg\" alt=\"Open In Colab\"/></a>"
      ]
    },
    {
      "cell_type": "markdown",
      "metadata": {
        "id": "HSD5VHxfjOVu",
        "colab_type": "text"
      },
      "source": [
        "Assignment#4 - Rachit Shah - rachitinds@gmail.com"
      ]
    },
    {
      "cell_type": "markdown",
      "metadata": {
        "id": "IYk-T651jXKT",
        "colab_type": "text"
      },
      "source": [
        "1.1 Write a Python Program(with class concepts) to find the area of the triangle using the below\n",
        "formula.\n",
        "area = (s*(s-a)*(s-b)*(s-c)) ** 0.5\n",
        "Function to take the length of the sides of triangle from user should be defined in the parent\n",
        "class and function to calculate the area should be defined in subclass."
      ]
    },
    {
      "cell_type": "markdown",
      "metadata": {
        "id": "qw8NX19PjcX0",
        "colab_type": "text"
      },
      "source": [
        "Answer :"
      ]
    },
    {
      "cell_type": "code",
      "metadata": {
        "id": "OPXXHeoejKWM",
        "colab_type": "code",
        "colab": {
          "base_uri": "https://localhost:8080/",
          "height": 35
        },
        "outputId": "99dd2539-6a79-4496-a4d0-a96b116544dc"
      },
      "source": [
        "class Triangle:\n",
        "  def __init__(self,a,b,c):\n",
        "    self.a = a\n",
        "    self.b = b\n",
        "    self.c = c\n",
        "  \n",
        "  def calcS(self):\n",
        "    return (self.a+self.b+self.c)/2\n",
        "\n",
        "class TriangleCalculation(Triangle):\n",
        "  def __init__(self,*args):\n",
        "    super(TriangleCalculation,self).__init__(*args)\n",
        "    \n",
        "  def calcArea(self):\n",
        "    s = self.calcS()\n",
        "    area = (s*(s-self.a)*(s-self.b)*(s-self.c))**0.5\n",
        "    return area\n",
        "\n",
        "\n",
        "triangleCalc = TriangleCalculation(3,5,4)\n",
        "print(\"Area of Triangle is \" + str(triangleCalc.calcArea()))"
      ],
      "execution_count": 19,
      "outputs": [
        {
          "output_type": "stream",
          "text": [
            "Area of Triangle is 6.0\n"
          ],
          "name": "stdout"
        }
      ]
    },
    {
      "cell_type": "markdown",
      "metadata": {
        "id": "ipBECVZxo1ol",
        "colab_type": "text"
      },
      "source": [
        "1.2 Write a function filter_long_words() that takes a list of words and an integer n and returns\n",
        "the list of words that are longer than n."
      ]
    },
    {
      "cell_type": "markdown",
      "metadata": {
        "id": "fIlE0XiSqGsz",
        "colab_type": "text"
      },
      "source": [
        "Answer:"
      ]
    },
    {
      "cell_type": "code",
      "metadata": {
        "id": "ISdnsVB1lJd1",
        "colab_type": "code",
        "colab": {
          "base_uri": "https://localhost:8080/",
          "height": 35
        },
        "outputId": "7eb6e8d4-5eba-49e8-8a70-2af7dfc3b39d"
      },
      "source": [
        "def filter_long_words(wordList,n):\n",
        "  return list(filter(lambda word:len(word)>n,wordList))\n",
        "\n",
        "filter_long_words(['aaaaa','bbbbb','cccc'],4)"
      ],
      "execution_count": 25,
      "outputs": [
        {
          "output_type": "execute_result",
          "data": {
            "text/plain": [
              "['aaaaa', 'bbbbb']"
            ]
          },
          "metadata": {
            "tags": []
          },
          "execution_count": 25
        }
      ]
    },
    {
      "cell_type": "markdown",
      "metadata": {
        "id": "u4NqV6OvqEU0",
        "colab_type": "text"
      },
      "source": [
        "2.1 Write a Python program using function concept that maps list of words into a list of integers\n",
        "representing the lengths of the corresponding words.\n",
        "Hint: If a list [ ab,cde,erty] is passed on to the python function output should come as [2,3,4]\n",
        "Here 2,3 and 4 are the lengths of the words in the list."
      ]
    },
    {
      "cell_type": "markdown",
      "metadata": {
        "id": "-HT_PGhAqInn",
        "colab_type": "text"
      },
      "source": [
        "Answer:"
      ]
    },
    {
      "cell_type": "code",
      "metadata": {
        "id": "gTmPiY-GpmMM",
        "colab_type": "code",
        "colab": {
          "base_uri": "https://localhost:8080/",
          "height": 35
        },
        "outputId": "0ba13e6f-6062-44cb-becd-f711562ab7c7"
      },
      "source": [
        "def map_word_to_integer(wordList):\n",
        "  return list(map(lambda word:len(word),wordList))\n",
        "\n",
        "print(map_word_to_integer(['ab','cde','erty']))"
      ],
      "execution_count": 30,
      "outputs": [
        {
          "output_type": "stream",
          "text": [
            "[2, 3, 4]\n"
          ],
          "name": "stdout"
        }
      ]
    },
    {
      "cell_type": "markdown",
      "metadata": {
        "id": "-BJLvCuMq4ji",
        "colab_type": "text"
      },
      "source": [
        "2.2 Write a Python function which takes a character (i.e. a string of length 1) and returns True if\n",
        "it is a vowel, False otherwise."
      ]
    },
    {
      "cell_type": "markdown",
      "metadata": {
        "id": "uCV9aNvYq-j8",
        "colab_type": "text"
      },
      "source": [
        "Answer:"
      ]
    },
    {
      "cell_type": "code",
      "metadata": {
        "id": "krgK7OzaqhqI",
        "colab_type": "code",
        "colab": {
          "base_uri": "https://localhost:8080/",
          "height": 35
        },
        "outputId": "244881d0-f738-40de-ee55-622a97f174d1"
      },
      "source": [
        "def checkVowel(input):\n",
        "  if len(input) > 1:\n",
        "    print(\"Incorrect Length\")\n",
        "\n",
        "  for vow in ['a','e','i','o','u']:\n",
        "    if input.casefold()==vow:\n",
        "      return True\n",
        "  else:\n",
        "    return False\n",
        "\n",
        "print(checkVowel('e'))"
      ],
      "execution_count": 40,
      "outputs": [
        {
          "output_type": "stream",
          "text": [
            "True\n"
          ],
          "name": "stdout"
        }
      ]
    }
  ]
}