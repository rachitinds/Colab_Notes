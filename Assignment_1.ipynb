{
  "nbformat": 4,
  "nbformat_minor": 0,
  "metadata": {
    "colab": {
      "name": "Assignment#1.ipynb",
      "provenance": [],
      "authorship_tag": "ABX9TyP4KNZb1XmJ/nVD8VWh4Deq",
      "include_colab_link": true
    },
    "kernelspec": {
      "name": "python3",
      "display_name": "Python 3"
    }
  },
  "cells": [
    {
      "cell_type": "markdown",
      "metadata": {
        "id": "view-in-github",
        "colab_type": "text"
      },
      "source": [
        "<a href=\"https://colab.research.google.com/github/rachitinds/Colab_Notes/blob/master/Assignment_1.ipynb\" target=\"_parent\"><img src=\"https://colab.research.google.com/assets/colab-badge.svg\" alt=\"Open In Colab\"/></a>"
      ]
    },
    {
      "cell_type": "markdown",
      "metadata": {
        "id": "Z1_hQWrIx0RR",
        "colab_type": "text"
      },
      "source": [
        "Assignment#1 - Rachit Shah - rachitinds@gmail.com"
      ]
    },
    {
      "cell_type": "markdown",
      "metadata": {
        "id": "ididXqJ5xySh",
        "colab_type": "text"
      },
      "source": [
        "Question#1"
      ]
    },
    {
      "cell_type": "code",
      "metadata": {
        "id": "-wxGCHWFt2VH",
        "colab_type": "code",
        "colab": {
          "base_uri": "https://localhost:8080/",
          "height": 55
        },
        "outputId": "2053539d-99bd-485f-d764-17cdb5635506"
      },
      "source": [
        "def div_by_7_not_multiple_of_5(start,end):\n",
        "  for i in range(start,end+1):\n",
        "    if(i%7==0 and i%5!=0):\n",
        "      print(i,end=',')\n",
        "\n",
        "div_by_7_not_multiple_of_5(2000,3200)"
      ],
      "execution_count": 2,
      "outputs": [
        {
          "output_type": "stream",
          "text": [
            "2002,2009,2016,2023,2037,2044,2051,2058,2072,2079,2086,2093,2107,2114,2121,2128,2142,2149,2156,2163,2177,2184,2191,2198,2212,2219,2226,2233,2247,2254,2261,2268,2282,2289,2296,2303,2317,2324,2331,2338,2352,2359,2366,2373,2387,2394,2401,2408,2422,2429,2436,2443,2457,2464,2471,2478,2492,2499,2506,2513,2527,2534,2541,2548,2562,2569,2576,2583,2597,2604,2611,2618,2632,2639,2646,2653,2667,2674,2681,2688,2702,2709,2716,2723,2737,2744,2751,2758,2772,2779,2786,2793,2807,2814,2821,2828,2842,2849,2856,2863,2877,2884,2891,2898,2912,2919,2926,2933,2947,2954,2961,2968,2982,2989,2996,3003,3017,3024,3031,3038,3052,3059,3066,3073,3087,3094,3101,3108,3122,3129,3136,3143,3157,3164,3171,3178,3192,3199,"
          ],
          "name": "stdout"
        }
      ]
    },
    {
      "cell_type": "markdown",
      "metadata": {
        "id": "Q0xByRbZwCDl",
        "colab_type": "text"
      },
      "source": [
        "Question#2"
      ]
    },
    {
      "cell_type": "code",
      "metadata": {
        "id": "lRL3IxwTuxFI",
        "colab_type": "code",
        "colab": {
          "base_uri": "https://localhost:8080/",
          "height": 35
        },
        "outputId": "46855f0b-6402-46ca-a526-1360c54fcc3a"
      },
      "source": [
        "def reverse_order(firstName,lastName):\n",
        "  print(firstName[::-1]+\" \"+lastName[::-1])\n",
        "\n",
        "\n",
        "reverse_order(\"Rachit\",\"Shah\")"
      ],
      "execution_count": 3,
      "outputs": [
        {
          "output_type": "stream",
          "text": [
            "tihcaR hahS\n"
          ],
          "name": "stdout"
        }
      ]
    },
    {
      "cell_type": "markdown",
      "metadata": {
        "id": "1LMvyn-ow4kD",
        "colab_type": "text"
      },
      "source": [
        "Question#3"
      ]
    },
    {
      "cell_type": "code",
      "metadata": {
        "id": "dEdMcAAnwwQ9",
        "colab_type": "code",
        "colab": {
          "base_uri": "https://localhost:8080/",
          "height": 35
        },
        "outputId": "828b3ab6-442f-428f-ab45-c2c223bdeadd"
      },
      "source": [
        "import math\n",
        "\n",
        "def volume_of_sphere(diameter):\n",
        "  radius = diameter/2\n",
        "  V = (4/3)*(math.pi)*(radius**3)\n",
        "  return V\n",
        "\n",
        "print(volume_of_sphere(12))"
      ],
      "execution_count": 4,
      "outputs": [
        {
          "output_type": "stream",
          "text": [
            "904.7786842338603\n"
          ],
          "name": "stdout"
        }
      ]
    }
  ]
}