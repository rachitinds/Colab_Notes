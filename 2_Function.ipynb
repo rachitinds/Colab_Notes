{
  "nbformat": 4,
  "nbformat_minor": 0,
  "metadata": {
    "colab": {
      "name": "2-Function.ipynb",
      "provenance": [],
      "collapsed_sections": [],
      "authorship_tag": "ABX9TyNTVOKx7Xn+Xlsp4+a/zKBw",
      "include_colab_link": true
    },
    "kernelspec": {
      "name": "python3",
      "display_name": "Python 3"
    }
  },
  "cells": [
    {
      "cell_type": "markdown",
      "metadata": {
        "id": "view-in-github",
        "colab_type": "text"
      },
      "source": [
        "<a href=\"https://colab.research.google.com/github/rachitinds/Colab_Notes/blob/master/2_Function.ipynb\" target=\"_parent\"><img src=\"https://colab.research.google.com/assets/colab-badge.svg\" alt=\"Open In Colab\"/></a>"
      ]
    },
    {
      "cell_type": "markdown",
      "metadata": {
        "id": "lFXJMA0iP8gf",
        "colab_type": "text"
      },
      "source": [
        "Function Contd."
      ]
    },
    {
      "cell_type": "code",
      "metadata": {
        "id": "jKO4ehAfOeqC",
        "colab_type": "code",
        "colab": {
          "base_uri": "https://localhost:8080/",
          "height": 35
        },
        "outputId": "f706db01-c385-4833-a854-b6cffc2e0b73"
      },
      "source": [
        "def test5(a,b=1):\n",
        "  return a+b\n",
        "\n",
        "test5(10)"
      ],
      "execution_count": 1,
      "outputs": [
        {
          "output_type": "execute_result",
          "data": {
            "text/plain": [
              "11"
            ]
          },
          "metadata": {
            "tags": []
          },
          "execution_count": 1
        }
      ]
    },
    {
      "cell_type": "code",
      "metadata": {
        "id": "rczhi3SRSJj5",
        "colab_type": "code",
        "colab": {
          "base_uri": "https://localhost:8080/",
          "height": 35
        },
        "outputId": "b0d5bb4d-3c98-4a4f-907d-085f4febee86"
      },
      "source": [
        "test5(10,20)"
      ],
      "execution_count": 2,
      "outputs": [
        {
          "output_type": "execute_result",
          "data": {
            "text/plain": [
              "30"
            ]
          },
          "metadata": {
            "tags": []
          },
          "execution_count": 2
        }
      ]
    },
    {
      "cell_type": "markdown",
      "metadata": {
        "id": "VcBtmEmySc7k",
        "colab_type": "text"
      },
      "source": [
        "Keep the default functional attribute at the last"
      ]
    },
    {
      "cell_type": "code",
      "metadata": {
        "id": "miB7zmmuSPkf",
        "colab_type": "code",
        "colab": {
          "base_uri": "https://localhost:8080/",
          "height": 35
        },
        "outputId": "3658b695-fa8c-4dba-a864-84d6a86d9364"
      },
      "source": [
        "def modifylist(a):\n",
        "  l = []\n",
        "  if type(a) == list:\n",
        "    for i in a:\n",
        "      l.append(i+4)\n",
        "  else:\n",
        "    print(\"Input is not a list\")\n",
        "  return l\n",
        "\n",
        "\n",
        "a = [1,2,3,4]\n",
        "\n",
        "print(modifylist(a))"
      ],
      "execution_count": 7,
      "outputs": [
        {
          "output_type": "stream",
          "text": [
            "[5, 6, 7, 8]\n"
          ],
          "name": "stdout"
        }
      ]
    },
    {
      "cell_type": "code",
      "metadata": {
        "id": "4GZxjkYLTW1J",
        "colab_type": "code",
        "colab": {
          "base_uri": "https://localhost:8080/",
          "height": 305
        },
        "outputId": "11fbd42d-57c6-4a2f-e548-629e953239dd"
      },
      "source": [
        "def greeting(name):\n",
        "  print('Hello %d' %name)\n",
        "\n",
        "greeting(\"12\")"
      ],
      "execution_count": 9,
      "outputs": [
        {
          "output_type": "error",
          "ename": "TypeError",
          "evalue": "ignored",
          "traceback": [
            "\u001b[0;31m---------------------------------------------------------------------------\u001b[0m",
            "\u001b[0;31mTypeError\u001b[0m                                 Traceback (most recent call last)",
            "\u001b[0;32m<ipython-input-9-5184ceee7afd>\u001b[0m in \u001b[0;36m<module>\u001b[0;34m()\u001b[0m\n\u001b[1;32m      2\u001b[0m   \u001b[0mprint\u001b[0m\u001b[0;34m(\u001b[0m\u001b[0;34m'Hello %d'\u001b[0m \u001b[0;34m%\u001b[0m\u001b[0mname\u001b[0m\u001b[0;34m)\u001b[0m\u001b[0;34m\u001b[0m\u001b[0;34m\u001b[0m\u001b[0m\n\u001b[1;32m      3\u001b[0m \u001b[0;34m\u001b[0m\u001b[0m\n\u001b[0;32m----> 4\u001b[0;31m \u001b[0mgreeting\u001b[0m\u001b[0;34m(\u001b[0m\u001b[0;34m\"12\"\u001b[0m\u001b[0;34m)\u001b[0m\u001b[0;34m\u001b[0m\u001b[0;34m\u001b[0m\u001b[0m\n\u001b[0m",
            "\u001b[0;32m<ipython-input-9-5184ceee7afd>\u001b[0m in \u001b[0;36mgreeting\u001b[0;34m(name)\u001b[0m\n\u001b[1;32m      1\u001b[0m \u001b[0;32mdef\u001b[0m \u001b[0mgreeting\u001b[0m\u001b[0;34m(\u001b[0m\u001b[0mname\u001b[0m\u001b[0;34m)\u001b[0m\u001b[0;34m:\u001b[0m\u001b[0;34m\u001b[0m\u001b[0;34m\u001b[0m\u001b[0m\n\u001b[0;32m----> 2\u001b[0;31m   \u001b[0mprint\u001b[0m\u001b[0;34m(\u001b[0m\u001b[0;34m'Hello %d'\u001b[0m \u001b[0;34m%\u001b[0m\u001b[0mname\u001b[0m\u001b[0;34m)\u001b[0m\u001b[0;34m\u001b[0m\u001b[0;34m\u001b[0m\u001b[0m\n\u001b[0m\u001b[1;32m      3\u001b[0m \u001b[0;34m\u001b[0m\u001b[0m\n\u001b[1;32m      4\u001b[0m \u001b[0mgreeting\u001b[0m\u001b[0;34m(\u001b[0m\u001b[0;34m\"12\"\u001b[0m\u001b[0;34m)\u001b[0m\u001b[0;34m\u001b[0m\u001b[0;34m\u001b[0m\u001b[0m\n",
            "\u001b[0;31mTypeError\u001b[0m: %d format: a number is required, not str"
          ]
        }
      ]
    },
    {
      "cell_type": "markdown",
      "metadata": {
        "id": "4FUbVr7oWc_j",
        "colab_type": "text"
      },
      "source": [
        "If for loop completely exhaust itself then else will be executed in for else"
      ]
    },
    {
      "cell_type": "code",
      "metadata": {
        "id": "j6SfE4I8UM-I",
        "colab_type": "code",
        "colab": {
          "base_uri": "https://localhost:8080/",
          "height": 35
        },
        "outputId": "4e3ce8d3-c615-4098-ee3a-74180e17f68b"
      },
      "source": [
        "def is_prime(num):\n",
        "  for n in range(2,num):\n",
        "    if num % n ==0:\n",
        "      print('not prime')\n",
        "      break\n",
        "  else:\n",
        "    print ('prime')\n",
        "\n",
        "is_prime(16)"
      ],
      "execution_count": 11,
      "outputs": [
        {
          "output_type": "stream",
          "text": [
            "not prime\n"
          ],
          "name": "stdout"
        }
      ]
    },
    {
      "cell_type": "markdown",
      "metadata": {
        "id": "cizvp5i_aoRa",
        "colab_type": "text"
      },
      "source": [
        "Iterators and Generators"
      ]
    },
    {
      "cell_type": "code",
      "metadata": {
        "id": "15avo5GeU3EU",
        "colab_type": "code",
        "colab": {
          "base_uri": "https://localhost:8080/",
          "height": 35
        },
        "outputId": "4068722e-2763-4825-9783-18c6f9be9b77"
      },
      "source": [
        "list(range(8))"
      ],
      "execution_count": 12,
      "outputs": [
        {
          "output_type": "execute_result",
          "data": {
            "text/plain": [
              "[0, 1, 2, 3, 4, 5, 6, 7]"
            ]
          },
          "metadata": {
            "tags": []
          },
          "execution_count": 12
        }
      ]
    },
    {
      "cell_type": "code",
      "metadata": {
        "id": "su5__038auwm",
        "colab_type": "code",
        "colab": {
          "base_uri": "https://localhost:8080/",
          "height": 104
        },
        "outputId": "bfb716d4-281d-4bdc-f0e3-a704a59c25e6"
      },
      "source": [
        "def gencubes(n):\n",
        "  for num in range(n):\n",
        "    print(num**3)\n",
        "\n",
        "gencubes(5)"
      ],
      "execution_count": 14,
      "outputs": [
        {
          "output_type": "stream",
          "text": [
            "0\n",
            "1\n",
            "8\n",
            "27\n",
            "64\n"
          ],
          "name": "stdout"
        }
      ]
    },
    {
      "cell_type": "markdown",
      "metadata": {
        "id": "mCqMS9NtbqBM",
        "colab_type": "text"
      },
      "source": [
        "yield try to create a generator"
      ]
    },
    {
      "cell_type": "code",
      "metadata": {
        "id": "LHV4fD0BbFna",
        "colab_type": "code",
        "colab": {
          "base_uri": "https://localhost:8080/",
          "height": 35
        },
        "outputId": "2c63283d-1b21-4ca4-a568-332bb2b341e1"
      },
      "source": [
        "def gencubes(n):\n",
        "  for num in range(n):\n",
        "    yield num**3\n",
        "\n",
        "gencubes(5)\n"
      ],
      "execution_count": 15,
      "outputs": [
        {
          "output_type": "execute_result",
          "data": {
            "text/plain": [
              "<generator object gencubes at 0x7f838e801728>"
            ]
          },
          "metadata": {
            "tags": []
          },
          "execution_count": 15
        }
      ]
    },
    {
      "cell_type": "code",
      "metadata": {
        "id": "aEr8479Eb2pz",
        "colab_type": "code",
        "colab": {
          "base_uri": "https://localhost:8080/",
          "height": 104
        },
        "outputId": "5ce21bf9-95d6-47f4-bb09-0608f0700da8"
      },
      "source": [
        "for x in gencubes(5):\n",
        "  print(x)"
      ],
      "execution_count": 16,
      "outputs": [
        {
          "output_type": "stream",
          "text": [
            "0\n",
            "1\n",
            "8\n",
            "27\n",
            "64\n"
          ],
          "name": "stdout"
        }
      ]
    },
    {
      "cell_type": "code",
      "metadata": {
        "id": "7b4Jw07Xb9dr",
        "colab_type": "code",
        "colab": {
          "base_uri": "https://localhost:8080/",
          "height": 35
        },
        "outputId": "904ebe87-a9d9-4bdc-8e8c-1ecd0edeecd9"
      },
      "source": [
        "list(gencubes(5))"
      ],
      "execution_count": 19,
      "outputs": [
        {
          "output_type": "execute_result",
          "data": {
            "text/plain": [
              "[0, 1, 8, 27, 64]"
            ]
          },
          "metadata": {
            "tags": []
          },
          "execution_count": 19
        }
      ]
    },
    {
      "cell_type": "markdown",
      "metadata": {
        "id": "XR5JlEM7dKHF",
        "colab_type": "text"
      },
      "source": [
        "string is not a iterator\n",
        "\n",
        "string is an iterable\n",
        "\n",
        "But, it can be converted into iterator by iter(string). the only condition is iterable.\n",
        "\n",
        "Same applies to a list\n",
        "\n",
        "next(on iterator)\n",
        "\n",
        "iter(any iterable obj)"
      ]
    },
    {
      "cell_type": "code",
      "metadata": {
        "id": "5ce4xKKecREd",
        "colab_type": "code",
        "colab": {}
      },
      "source": [
        ""
      ],
      "execution_count": null,
      "outputs": []
    }
  ]
}