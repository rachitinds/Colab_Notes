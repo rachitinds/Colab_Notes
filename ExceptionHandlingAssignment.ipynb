{
  "nbformat": 4,
  "nbformat_minor": 0,
  "metadata": {
    "colab": {
      "name": "ExceptionHandlingAssignment.ipynb",
      "provenance": [],
      "authorship_tag": "ABX9TyOw+P+TSYzM37rY7ahuTT5b",
      "include_colab_link": true
    },
    "kernelspec": {
      "name": "python3",
      "display_name": "Python 3"
    }
  },
  "cells": [
    {
      "cell_type": "markdown",
      "metadata": {
        "id": "view-in-github",
        "colab_type": "text"
      },
      "source": [
        "<a href=\"https://colab.research.google.com/github/rachitinds/Colab_Notes/blob/master/ExceptionHandlingAssignment.ipynb\" target=\"_parent\"><img src=\"https://colab.research.google.com/assets/colab-badge.svg\" alt=\"Open In Colab\"/></a>"
      ]
    },
    {
      "cell_type": "markdown",
      "metadata": {
        "id": "SaHw7siUuiCc",
        "colab_type": "text"
      },
      "source": [
        " Assignment#5 - Exception Handling - Rachit Shah - rachitinds@gmail.com"
      ]
    },
    {
      "cell_type": "markdown",
      "metadata": {
        "id": "yb9Bple0uf1a",
        "colab_type": "text"
      },
      "source": [
        "1. Write a function to compute 5/0 and use try/except to catch the exceptions."
      ]
    },
    {
      "cell_type": "code",
      "metadata": {
        "id": "l9H1S88lt0Ui",
        "colab_type": "code",
        "colab": {
          "base_uri": "https://localhost:8080/",
          "height": 35
        },
        "outputId": "537ea834-167e-4e34-ed5a-d65e68912472"
      },
      "source": [
        "def compute():\n",
        "  try:\n",
        "    a=5/0\n",
        "    print(a)\n",
        "  except:\n",
        "    print(\"You have divided the number by 0\")\n",
        "\n",
        "compute()"
      ],
      "execution_count": 3,
      "outputs": [
        {
          "output_type": "stream",
          "text": [
            "You have divided the number by 0\n"
          ],
          "name": "stdout"
        }
      ]
    },
    {
      "cell_type": "markdown",
      "metadata": {
        "id": "hggGG_Gbup9e",
        "colab_type": "text"
      },
      "source": [
        "2. Implement a Python program to generate all sentences where subject is in\n",
        "[\"Americans\", \"Indians\"] and verb is in [\"Play\", \"watch\"] and the object is in\n",
        "[\"Baseball\",\"cricket\"]."
      ]
    },
    {
      "cell_type": "code",
      "metadata": {
        "id": "kEwiMFKYuRqv",
        "colab_type": "code",
        "colab": {
          "base_uri": "https://localhost:8080/",
          "height": 156
        },
        "outputId": "e1e2487b-82ca-4521-d29d-430e888b4a3c"
      },
      "source": [
        "def generate_sentences():\n",
        "  subjects=[\"Americans\",\"Indians\"]\n",
        "  verbs=[\"play\",\"watch\"]\n",
        "  objects=[\"Baseball\",\"Cricket\"]\n",
        "\n",
        "  for subject in subjects:\n",
        "    for verb in verbs:\n",
        "      for obj in objects:\n",
        "        print(subject+\" \"+verb+\" \"+obj)\n",
        "\n",
        "generate_sentences()"
      ],
      "execution_count": 5,
      "outputs": [
        {
          "output_type": "stream",
          "text": [
            "Americans play Baseball\n",
            "Americans play Cricket\n",
            "Americans watch Baseball\n",
            "Americans watch Cricket\n",
            "Indians play Baseball\n",
            "Indians play Cricket\n",
            "Indians watch Baseball\n",
            "Indians watch Cricket\n"
          ],
          "name": "stdout"
        }
      ]
    }
  ]
}